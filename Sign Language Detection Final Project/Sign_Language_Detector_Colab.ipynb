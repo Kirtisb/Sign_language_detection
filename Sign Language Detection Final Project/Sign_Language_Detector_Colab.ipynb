{
  "cells": [
    {
      "cell_type": "code",
      "execution_count": 1,
      "metadata": {
        "id": "2X9aw1qsMuMh"
      },
      "outputs": [],
      "source": [
        "import numpy as np\n",
        "import os\n",
        "from matplotlib import pyplot as plt\n",
        "from sklearn.model_selection import train_test_split\n",
        "from tensorflow.keras.utils import to_categorical\n",
        "from tensorflow.keras.models import Sequential\n",
        "from tensorflow.keras.layers import LSTM, Dense, GRU\n",
        "from tensorflow.keras.callbacks import TensorBoard\n",
        "from tensorflow.keras.losses import SparseCategoricalCrossentropy"
      ]
    },
    {
      "cell_type": "code",
      "execution_count": 2,
      "metadata": {
        "id": "wl8upSXWMuMu"
      },
      "outputs": [],
      "source": [
        "#where to store the data\n",
        "DATA_PATH = os.path.join('MP_Data') \n",
        "\n",
        "#signs to detect\n",
        "signs = np.array(['Hello', 'How are you?', 'See you later!'])\n",
        "\n",
        "#number of videos per sign\n",
        "num_sequences = 30\n",
        "\n",
        "#number of frames per video\n",
        "num_frames = 30"
      ]
    },
    {
      "cell_type": "code",
      "execution_count": 3,
      "metadata": {
        "colab": {
          "base_uri": "https://localhost:8080/"
        },
        "id": "g0F_z5EJMuMx",
        "outputId": "0ef2825b-828a-477c-e428-1c73bd84ea42"
      },
      "outputs": [
        {
          "output_type": "execute_result",
          "data": {
            "text/plain": [
              "{'Hello': 0, 'How are you?': 1, 'See you later!': 2}"
            ]
          },
          "metadata": {},
          "execution_count": 3
        }
      ],
      "source": [
        "#create a mapping of signs to numbers to use as labels\n",
        "label_map = {label:num for num, label in enumerate(signs)}\n",
        "\n",
        "label_map"
      ]
    },
    {
      "cell_type": "code",
      "execution_count": 4,
      "metadata": {
        "id": "NKo-9NLGMuMy"
      },
      "outputs": [],
      "source": [
        "#sequences will be ultimate by X and labels will be y\n",
        "sequences, labels = [], []\n",
        "#loop through the various signs\n",
        "for sign in signs:\n",
        "    #loop through each sequence (video)\n",
        "    for sequence in range(num_sequences):\n",
        "        #set up variable to store all of the frames for a given video\n",
        "        window = []\n",
        "        #loop through every frame for video\n",
        "        for frame_num in range(num_frames):\n",
        "            #load the frame's numpy array and save it\n",
        "            res = np.load(os.path.join(DATA_PATH, sign, str(sequence), \"{}.npy\".format(frame_num)))\n",
        "            window.append(res)\n",
        "        #add window (collection of video's frame arrays) and add it to X data variable\n",
        "        sequences.append(window)\n",
        "        labels.append(label_map[sign])"
      ]
    },
    {
      "cell_type": "code",
      "execution_count": 5,
      "metadata": {
        "colab": {
          "base_uri": "https://localhost:8080/"
        },
        "id": "UEoEFNbBMuMy",
        "outputId": "393e7fb8-ff86-450a-a57c-4b1255bae130"
      },
      "outputs": [
        {
          "output_type": "execute_result",
          "data": {
            "text/plain": [
              "(90, 30, 1662)"
            ]
          },
          "metadata": {},
          "execution_count": 5
        }
      ],
      "source": [
        "#this means there are 90 videos, 30 frames per video, and 1662 keypoints per frame\n",
        "np.array(sequences).shape"
      ]
    },
    {
      "cell_type": "code",
      "execution_count": 6,
      "metadata": {
        "colab": {
          "base_uri": "https://localhost:8080/"
        },
        "id": "mO_kIMBaMuMy",
        "outputId": "4c618d62-5537-4361-87ad-0207a941d983"
      },
      "outputs": [
        {
          "output_type": "execute_result",
          "data": {
            "text/plain": [
              "(90,)"
            ]
          },
          "metadata": {},
          "execution_count": 6
        }
      ],
      "source": [
        "#90 labels for our 90 videos\n",
        "np.array(labels).shape"
      ]
    },
    {
      "cell_type": "code",
      "execution_count": 7,
      "metadata": {
        "colab": {
          "base_uri": "https://localhost:8080/"
        },
        "id": "0ioV7CiUMuMz",
        "outputId": "f9fa210c-18fc-42d2-d853-654394113a4f"
      },
      "outputs": [
        {
          "output_type": "execute_result",
          "data": {
            "text/plain": [
              "(90, 30, 1662)"
            ]
          },
          "metadata": {},
          "execution_count": 7
        }
      ],
      "source": [
        "#convert sequences from list to a numpy array\n",
        "X = np.array(sequences)\n",
        "\n",
        "X.shape"
      ]
    },
    {
      "cell_type": "code",
      "execution_count": 8,
      "metadata": {
        "colab": {
          "base_uri": "https://localhost:8080/"
        },
        "id": "H0xoszvVMuMz",
        "outputId": "5b68a871-30ca-4e5b-cd0d-c6aa21a1ed42"
      },
      "outputs": [
        {
          "output_type": "execute_result",
          "data": {
            "text/plain": [
              "array([[1, 0, 0],\n",
              "       [1, 0, 0],\n",
              "       [1, 0, 0],\n",
              "       [1, 0, 0],\n",
              "       [1, 0, 0],\n",
              "       [1, 0, 0],\n",
              "       [1, 0, 0],\n",
              "       [1, 0, 0],\n",
              "       [1, 0, 0],\n",
              "       [1, 0, 0],\n",
              "       [1, 0, 0],\n",
              "       [1, 0, 0],\n",
              "       [1, 0, 0],\n",
              "       [1, 0, 0],\n",
              "       [1, 0, 0],\n",
              "       [1, 0, 0],\n",
              "       [1, 0, 0],\n",
              "       [1, 0, 0],\n",
              "       [1, 0, 0],\n",
              "       [1, 0, 0],\n",
              "       [1, 0, 0],\n",
              "       [1, 0, 0],\n",
              "       [1, 0, 0],\n",
              "       [1, 0, 0],\n",
              "       [1, 0, 0],\n",
              "       [1, 0, 0],\n",
              "       [1, 0, 0],\n",
              "       [1, 0, 0],\n",
              "       [1, 0, 0],\n",
              "       [1, 0, 0],\n",
              "       [0, 1, 0],\n",
              "       [0, 1, 0],\n",
              "       [0, 1, 0],\n",
              "       [0, 1, 0],\n",
              "       [0, 1, 0],\n",
              "       [0, 1, 0],\n",
              "       [0, 1, 0],\n",
              "       [0, 1, 0],\n",
              "       [0, 1, 0],\n",
              "       [0, 1, 0],\n",
              "       [0, 1, 0],\n",
              "       [0, 1, 0],\n",
              "       [0, 1, 0],\n",
              "       [0, 1, 0],\n",
              "       [0, 1, 0],\n",
              "       [0, 1, 0],\n",
              "       [0, 1, 0],\n",
              "       [0, 1, 0],\n",
              "       [0, 1, 0],\n",
              "       [0, 1, 0],\n",
              "       [0, 1, 0],\n",
              "       [0, 1, 0],\n",
              "       [0, 1, 0],\n",
              "       [0, 1, 0],\n",
              "       [0, 1, 0],\n",
              "       [0, 1, 0],\n",
              "       [0, 1, 0],\n",
              "       [0, 1, 0],\n",
              "       [0, 1, 0],\n",
              "       [0, 1, 0],\n",
              "       [0, 0, 1],\n",
              "       [0, 0, 1],\n",
              "       [0, 0, 1],\n",
              "       [0, 0, 1],\n",
              "       [0, 0, 1],\n",
              "       [0, 0, 1],\n",
              "       [0, 0, 1],\n",
              "       [0, 0, 1],\n",
              "       [0, 0, 1],\n",
              "       [0, 0, 1],\n",
              "       [0, 0, 1],\n",
              "       [0, 0, 1],\n",
              "       [0, 0, 1],\n",
              "       [0, 0, 1],\n",
              "       [0, 0, 1],\n",
              "       [0, 0, 1],\n",
              "       [0, 0, 1],\n",
              "       [0, 0, 1],\n",
              "       [0, 0, 1],\n",
              "       [0, 0, 1],\n",
              "       [0, 0, 1],\n",
              "       [0, 0, 1],\n",
              "       [0, 0, 1],\n",
              "       [0, 0, 1],\n",
              "       [0, 0, 1],\n",
              "       [0, 0, 1],\n",
              "       [0, 0, 1],\n",
              "       [0, 0, 1],\n",
              "       [0, 0, 1],\n",
              "       [0, 0, 1]])"
            ]
          },
          "metadata": {},
          "execution_count": 8
        }
      ],
      "source": [
        "#one hot encoding for the labels\n",
        "y = to_categorical(labels).astype(int)\n",
        "\n",
        "y"
      ]
    },
    {
      "cell_type": "code",
      "execution_count": 9,
      "metadata": {
        "id": "e50SBmwsMuM0"
      },
      "outputs": [],
      "source": [
        "#split the data for 10% testing data\n",
        "X_train, X_test, y_train, y_test = train_test_split(X, y, test_size=0.2, random_state = 42)"
      ]
    },
    {
      "cell_type": "code",
      "execution_count": 10,
      "metadata": {
        "colab": {
          "base_uri": "https://localhost:8080/"
        },
        "id": "DtBhzPSTMuM0",
        "outputId": "4da2fd18-a3b2-41da-efc4-c902bc15b3ed"
      },
      "outputs": [
        {
          "output_type": "execute_result",
          "data": {
            "text/plain": [
              "(18, 3)"
            ]
          },
          "metadata": {},
          "execution_count": 10
        }
      ],
      "source": [
        "y_test.shape"
      ]
    },
    {
      "cell_type": "code",
      "execution_count": 11,
      "metadata": {
        "colab": {
          "base_uri": "https://localhost:8080/"
        },
        "id": "m24AiXLmMuM1",
        "outputId": "36f1a4ab-ab79-463e-c956-7ab1650a4eee"
      },
      "outputs": [
        {
          "output_type": "execute_result",
          "data": {
            "text/plain": [
              "(72, 3)"
            ]
          },
          "metadata": {},
          "execution_count": 11
        }
      ],
      "source": [
        "y_train.shape"
      ]
    },
    {
      "cell_type": "code",
      "execution_count": 12,
      "metadata": {
        "colab": {
          "base_uri": "https://localhost:8080/"
        },
        "id": "6KOqJtLYMuM2",
        "outputId": "3d5fe752-819f-4037-cd5b-94e7ceb868e5"
      },
      "outputs": [
        {
          "output_type": "stream",
          "name": "stdout",
          "text": [
            "WARNING:tensorflow:Layer gru will not use cuDNN kernels since it doesn't meet the criteria. It will use a generic GPU kernel as fallback when running on GPU.\n",
            "WARNING:tensorflow:Layer gru_1 will not use cuDNN kernels since it doesn't meet the criteria. It will use a generic GPU kernel as fallback when running on GPU.\n",
            "WARNING:tensorflow:Layer gru_2 will not use cuDNN kernels since it doesn't meet the criteria. It will use a generic GPU kernel as fallback when running on GPU.\n"
          ]
        }
      ],
      "source": [
        "model = Sequential()\n",
        "model.add(GRU(30, return_sequences=True, activation='relu', input_shape=(30,1662), dropout = 0.1))\n",
        "model.add(GRU(20, return_sequences=True, activation='relu', dropout = 0.1))\n",
        "model.add(GRU(10, return_sequences=False, activation='relu', dropout = 0.1))\n",
        "model.add(Dense(10, activation='relu'))\n",
        "model.add(Dense(5, activation='relu'))\n",
        "model.add(Dense(signs.shape[0], activation='softmax'))\n",
        "\n",
        "model.compile(optimizer='Adam', loss='categorical_crossentropy', metrics=['accuracy'])"
      ]
    },
    {
      "cell_type": "code",
      "execution_count": 13,
      "metadata": {
        "id": "r3lbcxijMuM3"
      },
      "outputs": [],
      "source": [
        "# model.compile(optimizer='Adam', loss='categorical_crossentropy', metrics=['accuracy'])"
      ]
    },
    {
      "cell_type": "code",
      "execution_count": 14,
      "metadata": {
        "scrolled": true,
        "colab": {
          "base_uri": "https://localhost:8080/"
        },
        "id": "I3j17moZMuM3",
        "outputId": "14b45e17-e84d-476a-e4b1-e493b6e189a4"
      },
      "outputs": [
        {
          "output_type": "stream",
          "name": "stdout",
          "text": [
            "Epoch 1/50\n",
            "9/9 [==============================] - 12s 479ms/step - loss: 1.1193 - accuracy: 0.2778 - val_loss: 1.0962 - val_accuracy: 0.4444\n",
            "Epoch 2/50\n",
            "9/9 [==============================] - 3s 291ms/step - loss: 1.1098 - accuracy: 0.3194 - val_loss: 1.1008 - val_accuracy: 0.2222\n",
            "Epoch 3/50\n",
            "9/9 [==============================] - 2s 280ms/step - loss: 1.1119 - accuracy: 0.3333 - val_loss: 1.0922 - val_accuracy: 0.4444\n",
            "Epoch 4/50\n",
            "9/9 [==============================] - 2s 246ms/step - loss: 1.0963 - accuracy: 0.3472 - val_loss: 1.0890 - val_accuracy: 0.4444\n",
            "Epoch 5/50\n",
            "9/9 [==============================] - 2s 274ms/step - loss: 1.0939 - accuracy: 0.4306 - val_loss: 1.0730 - val_accuracy: 0.3333\n",
            "Epoch 6/50\n",
            "9/9 [==============================] - 2s 247ms/step - loss: 1.0852 - accuracy: 0.4028 - val_loss: 1.0580 - val_accuracy: 0.2222\n",
            "Epoch 7/50\n",
            "9/9 [==============================] - 2s 232ms/step - loss: 1.0611 - accuracy: 0.3750 - val_loss: 1.0686 - val_accuracy: 0.2222\n",
            "Epoch 8/50\n",
            "9/9 [==============================] - 3s 324ms/step - loss: 1.0414 - accuracy: 0.4444 - val_loss: 1.0066 - val_accuracy: 0.2222\n",
            "Epoch 9/50\n",
            "9/9 [==============================] - 2s 172ms/step - loss: 0.9916 - accuracy: 0.4722 - val_loss: 0.9544 - val_accuracy: 0.3889\n",
            "Epoch 10/50\n",
            "9/9 [==============================] - 1s 128ms/step - loss: 0.9192 - accuracy: 0.5556 - val_loss: 0.8821 - val_accuracy: 0.8333\n",
            "Epoch 11/50\n",
            "9/9 [==============================] - 1s 133ms/step - loss: 0.8672 - accuracy: 0.6944 - val_loss: 1.0346 - val_accuracy: 0.4444\n",
            "Epoch 12/50\n",
            "9/9 [==============================] - 1s 132ms/step - loss: 0.8430 - accuracy: 0.6250 - val_loss: 0.7971 - val_accuracy: 0.6667\n",
            "Epoch 13/50\n",
            "9/9 [==============================] - 1s 130ms/step - loss: 0.7110 - accuracy: 0.7361 - val_loss: 0.6370 - val_accuracy: 0.8333\n",
            "Epoch 14/50\n",
            "9/9 [==============================] - 1s 129ms/step - loss: 0.6103 - accuracy: 0.7361 - val_loss: 0.5301 - val_accuracy: 0.8889\n",
            "Epoch 15/50\n",
            "9/9 [==============================] - 1s 130ms/step - loss: 0.5238 - accuracy: 0.7083 - val_loss: 0.6209 - val_accuracy: 0.5000\n",
            "Epoch 16/50\n",
            "9/9 [==============================] - 1s 128ms/step - loss: 0.4531 - accuracy: 0.7917 - val_loss: 0.3950 - val_accuracy: 0.8333\n",
            "Epoch 17/50\n",
            "9/9 [==============================] - 1s 133ms/step - loss: 0.3861 - accuracy: 0.8750 - val_loss: 0.3402 - val_accuracy: 0.8889\n",
            "Epoch 18/50\n",
            "9/9 [==============================] - 1s 130ms/step - loss: 0.3492 - accuracy: 0.8889 - val_loss: 0.3188 - val_accuracy: 0.9444\n",
            "Epoch 19/50\n",
            "9/9 [==============================] - 1s 133ms/step - loss: 0.5094 - accuracy: 0.7083 - val_loss: 0.3881 - val_accuracy: 0.7222\n",
            "Epoch 20/50\n",
            "9/9 [==============================] - 1s 130ms/step - loss: 0.3652 - accuracy: 0.9167 - val_loss: 0.2948 - val_accuracy: 0.9444\n",
            "Epoch 21/50\n",
            "9/9 [==============================] - 1s 141ms/step - loss: 0.3083 - accuracy: 0.9444 - val_loss: 0.2941 - val_accuracy: 0.9444\n",
            "Epoch 22/50\n",
            "9/9 [==============================] - 1s 132ms/step - loss: 0.2398 - accuracy: 0.9722 - val_loss: 0.2292 - val_accuracy: 0.9444\n",
            "Epoch 23/50\n",
            "9/9 [==============================] - 1s 132ms/step - loss: 0.6373 - accuracy: 0.7222 - val_loss: 0.7638 - val_accuracy: 0.5556\n",
            "Epoch 24/50\n",
            "9/9 [==============================] - 1s 128ms/step - loss: 0.4315 - accuracy: 0.7917 - val_loss: 0.3425 - val_accuracy: 0.9444\n",
            "Epoch 25/50\n",
            "9/9 [==============================] - 1s 133ms/step - loss: 0.3171 - accuracy: 0.8889 - val_loss: 0.2506 - val_accuracy: 0.7222\n",
            "Epoch 26/50\n",
            "9/9 [==============================] - 1s 129ms/step - loss: 0.2738 - accuracy: 0.9306 - val_loss: 0.2160 - val_accuracy: 0.9444\n",
            "Epoch 27/50\n",
            "9/9 [==============================] - 1s 128ms/step - loss: 0.1730 - accuracy: 0.9722 - val_loss: 0.3083 - val_accuracy: 0.9444\n",
            "Epoch 28/50\n",
            "9/9 [==============================] - 1s 133ms/step - loss: 0.1532 - accuracy: 0.9583 - val_loss: 0.1947 - val_accuracy: 0.9444\n",
            "Epoch 29/50\n",
            "9/9 [==============================] - 1s 132ms/step - loss: 0.1101 - accuracy: 0.9861 - val_loss: 0.2040 - val_accuracy: 0.9444\n",
            "Epoch 30/50\n",
            "9/9 [==============================] - 1s 134ms/step - loss: 0.0836 - accuracy: 0.9861 - val_loss: 0.2056 - val_accuracy: 0.9444\n",
            "Epoch 31/50\n",
            "9/9 [==============================] - 1s 132ms/step - loss: 0.1297 - accuracy: 0.9583 - val_loss: 0.2239 - val_accuracy: 0.9444\n",
            "Epoch 32/50\n",
            "9/9 [==============================] - 1s 136ms/step - loss: 0.0850 - accuracy: 0.9861 - val_loss: 0.1911 - val_accuracy: 0.9444\n",
            "Epoch 33/50\n",
            "9/9 [==============================] - 1s 134ms/step - loss: 0.0941 - accuracy: 0.9583 - val_loss: 0.3079 - val_accuracy: 0.9444\n",
            "Epoch 34/50\n",
            "9/9 [==============================] - 1s 130ms/step - loss: 0.3140 - accuracy: 0.8472 - val_loss: 0.1893 - val_accuracy: 0.9444\n",
            "Epoch 35/50\n",
            "9/9 [==============================] - 1s 133ms/step - loss: 0.6763 - accuracy: 0.7639 - val_loss: 0.1980 - val_accuracy: 0.9444\n",
            "Epoch 36/50\n",
            "9/9 [==============================] - 1s 130ms/step - loss: 0.4268 - accuracy: 0.8194 - val_loss: 1.0614 - val_accuracy: 0.5556\n",
            "Epoch 37/50\n",
            "9/9 [==============================] - 1s 132ms/step - loss: 0.7075 - accuracy: 0.6944 - val_loss: 0.8266 - val_accuracy: 0.5556\n",
            "Epoch 38/50\n",
            "9/9 [==============================] - 1s 131ms/step - loss: 0.4564 - accuracy: 0.7361 - val_loss: 0.3307 - val_accuracy: 0.9444\n",
            "Epoch 39/50\n",
            "9/9 [==============================] - 1s 145ms/step - loss: 0.3397 - accuracy: 0.7917 - val_loss: 0.2627 - val_accuracy: 0.9444\n",
            "Epoch 40/50\n",
            "9/9 [==============================] - 1s 133ms/step - loss: 0.2824 - accuracy: 0.9722 - val_loss: 0.3000 - val_accuracy: 0.9444\n",
            "Epoch 41/50\n",
            "9/9 [==============================] - 1s 131ms/step - loss: 0.2316 - accuracy: 1.0000 - val_loss: 0.2231 - val_accuracy: 0.9444\n",
            "Epoch 42/50\n",
            "9/9 [==============================] - 1s 133ms/step - loss: 0.1715 - accuracy: 0.9861 - val_loss: 0.2161 - val_accuracy: 0.9444\n",
            "Epoch 43/50\n",
            "9/9 [==============================] - 1s 134ms/step - loss: 0.1590 - accuracy: 0.9861 - val_loss: 0.1912 - val_accuracy: 0.9444\n",
            "Epoch 44/50\n",
            "9/9 [==============================] - 1s 134ms/step - loss: 0.1209 - accuracy: 0.9861 - val_loss: 0.1771 - val_accuracy: 0.9444\n",
            "Epoch 45/50\n",
            "9/9 [==============================] - 1s 134ms/step - loss: 0.0817 - accuracy: 0.9861 - val_loss: 0.1788 - val_accuracy: 0.9444\n",
            "Epoch 46/50\n",
            "9/9 [==============================] - 1s 132ms/step - loss: 0.0782 - accuracy: 0.9861 - val_loss: 0.1833 - val_accuracy: 0.9444\n",
            "Epoch 47/50\n",
            "9/9 [==============================] - 1s 144ms/step - loss: 0.0682 - accuracy: 0.9861 - val_loss: 0.1859 - val_accuracy: 0.9444\n",
            "Epoch 48/50\n",
            "9/9 [==============================] - 1s 134ms/step - loss: 0.0662 - accuracy: 0.9861 - val_loss: 0.1914 - val_accuracy: 0.9444\n",
            "Epoch 49/50\n",
            "9/9 [==============================] - 1s 132ms/step - loss: 0.0711 - accuracy: 0.9861 - val_loss: 0.2097 - val_accuracy: 0.9444\n",
            "Epoch 50/50\n",
            "9/9 [==============================] - 1s 130ms/step - loss: 0.0608 - accuracy: 0.9861 - val_loss: 0.2060 - val_accuracy: 0.9444\n"
          ]
        }
      ],
      "source": [
        "history = model.fit(X_train, y_train, epochs=50, batch_size = 8, validation_data = (X_test, y_test))"
      ]
    },
    {
      "cell_type": "code",
      "source": [
        "_, acc = model.evaluate(X_test, y_test)"
      ],
      "metadata": {
        "colab": {
          "base_uri": "https://localhost:8080/"
        },
        "id": "C8bDbkSURYK9",
        "outputId": "550fae40-0814-4036-f0e3-ffec949607b4"
      },
      "execution_count": 15,
      "outputs": [
        {
          "output_type": "stream",
          "name": "stdout",
          "text": [
            "1/1 [==============================] - 0s 53ms/step - loss: 0.2060 - accuracy: 0.9444\n"
          ]
        }
      ]
    },
    {
      "cell_type": "code",
      "source": [
        "#this is an unusually high accuracy but this is due to the small size of the\n",
        "#custom dataset\n",
        "acc"
      ],
      "metadata": {
        "colab": {
          "base_uri": "https://localhost:8080/"
        },
        "id": "TQYuiGJKRpe0",
        "outputId": "0efa1f12-0225-414a-ba30-f4cb03a5d439"
      },
      "execution_count": 16,
      "outputs": [
        {
          "output_type": "execute_result",
          "data": {
            "text/plain": [
              "0.9444444179534912"
            ]
          },
          "metadata": {},
          "execution_count": 16
        }
      ]
    },
    {
      "cell_type": "code",
      "source": [
        "plt.title('Cross Entropy Loss')\n",
        "plt.plot(history.history['loss'], color='blue', label='train')\n",
        "plt.plot(history.history['val_loss'], color='orange', label='test')"
      ],
      "metadata": {
        "colab": {
          "base_uri": "https://localhost:8080/",
          "height": 319
        },
        "id": "SReVnpEORuDU",
        "outputId": "5349da4a-7a79-4ed8-c1da-b52ac3c2f49b"
      },
      "execution_count": 17,
      "outputs": [
        {
          "output_type": "execute_result",
          "data": {
            "text/plain": [
              "[<matplotlib.lines.Line2D at 0x7f7638e56c90>]"
            ]
          },
          "metadata": {},
          "execution_count": 17
        },
        {
          "output_type": "display_data",
          "data": {
            "image/png": "[encoded data removed]",
            "text/plain": [
              "<Figure size 432x288 with 1 Axes>"
            ]
          },
          "metadata": {
            "needs_background": "light"
          }
        }
      ]
    },
    {
      "cell_type": "code",
      "source": [
        "\n",
        "plt.title('Classification Accuracy')\n",
        "plt.plot(history.history['accuracy'], color='blue', label='train')\n",
        "plt.plot(history.history['val_accuracy'], color='orange', label='test')"
      ],
      "metadata": {
        "colab": {
          "base_uri": "https://localhost:8080/",
          "height": 319
        },
        "id": "-N38GUa8hGZh",
        "outputId": "b4b9012a-2060-4ffa-d9c6-502225b8eca6"
      },
      "execution_count": 18,
      "outputs": [
        {
          "output_type": "execute_result",
          "data": {
            "text/plain": [
              "[<matplotlib.lines.Line2D at 0x7f7638edf550>]"
            ]
          },
          "metadata": {},
          "execution_count": 18
        },
        {
          "output_type": "display_data",
          "data": {
            "image/png": "[encoded data removed]",
            "text/plain": [
              "<Figure size 432x288 with 1 Axes>"
            ]
          },
          "metadata": {
            "needs_background": "light"
          }
        }
      ]
    },
    {
      "cell_type": "code",
      "execution_count": 19,
      "metadata": {
        "colab": {
          "base_uri": "https://localhost:8080/"
        },
        "id": "Ol4I8EkiMuM4",
        "outputId": "fc12e488-2127-4fea-a097-388d66c118ca"
      },
      "outputs": [
        {
          "output_type": "stream",
          "name": "stdout",
          "text": [
            "Model: \"sequential\"\n",
            "_________________________________________________________________\n",
            " Layer (type)                Output Shape              Param #   \n",
            "=================================================================\n",
            " gru (GRU)                   (None, 30, 30)            152460    \n",
            "                                                                 \n",
            " gru_1 (GRU)                 (None, 30, 20)            3120      \n",
            "                                                                 \n",
            " gru_2 (GRU)                 (None, 10)                960       \n",
            "                                                                 \n",
            " dense (Dense)               (None, 10)                110       \n",
            "                                                                 \n",
            " dense_1 (Dense)             (None, 5)                 55        \n",
            "                                                                 \n",
            " dense_2 (Dense)             (None, 3)                 18        \n",
            "                                                                 \n",
            "=================================================================\n",
            "Total params: 156,723\n",
            "Trainable params: 156,723\n",
            "Non-trainable params: 0\n",
            "_________________________________________________________________\n"
          ]
        }
      ],
      "source": [
        "model.summary()"
      ]
    },
    {
      "cell_type": "code",
      "execution_count": 20,
      "metadata": {
        "id": "leAvD826MuM5"
      },
      "outputs": [],
      "source": [
        "model.save('sign_language_detection.h5')"
      ]
    }
  ],
  "metadata": {
    "kernelspec": {
      "display_name": "Python 3",
      "language": "python",
      "name": "python3"
    },
    "language_info": {
      "codemirror_mode": {
        "name": "ipython",
        "version": 3
      },
      "file_extension": ".py",
      "mimetype": "text/x-python",
      "name": "python",
      "nbconvert_exporter": "python",
      "pygments_lexer": "ipython3",
      "version": "3.7.4"
    },
    "colab": {
      "name": "Sign_Language_Detector_Colab.ipynb",
      "provenance": [],
      "collapsed_sections": []
    },
    "accelerator": "GPU"
  },
  "nbformat": 4,
  "nbformat_minor": 0
}